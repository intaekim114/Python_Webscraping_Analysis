{
 "cells": [
  {
   "cell_type": "code",
   "execution_count": null,
   "id": "fb5d9cfe",
   "metadata": {},
   "outputs": [],
   "source": [
    "%pip show requests"
   ]
  },
  {
   "cell_type": "code",
   "execution_count": null,
   "id": "82523e50",
   "metadata": {},
   "outputs": [],
   "source": [
    "%pip show beautifulsoup4"
   ]
  },
  {
   "cell_type": "code",
   "execution_count": 9,
   "id": "296e08e4",
   "metadata": {},
   "outputs": [],
   "source": [
    "import requests\n",
    "import bs4\n",
    "from bs4 import BeautifulSoup"
   ]
  },
  {
   "cell_type": "code",
   "execution_count": 17,
   "id": "250880f2",
   "metadata": {},
   "outputs": [
    {
     "name": "stdout",
     "output_type": "stream",
     "text": [
      "https://v.daum.net/v/20250409220327565\n",
      "[D리포트] \"이런 게 논란이 된다는 게 놀랍다\" 무안공항 제주항공 참사 처리 왜 신뢰 얻지 못하나\n",
      "https://v.daum.net/v/20250409210315562\n",
      "‘탈한국’ 열차에 왜 올라탔을까 [텅 비어가는 K제조업]\n",
      "https://v.daum.net/v/20250409210301549\n",
      "‘스마트팩토리’·리쇼어링…K제조업 재도약의 조건\n",
      "https://v.daum.net/v/20250409195246181\n",
      "수요 침체서 겨우 살아나나 싶었는데…IT도 미국발 침체 우려(종합)\n",
      "https://v.daum.net/v/20250409191619350\n",
      "혈세 1390억원 쓰는 대통령경호처는 누구를 경호했나 [視리즈]\n",
      "https://v.daum.net/v/20250409190509044\n",
      "트럼프의 책사 “관세, 미국이 제공하는 안보·무역체제의 대가”\n",
      "https://v.daum.net/v/20250409185802873\n",
      "12조 빚 몰린 스트래티지…결국 비트코인 매도 카드 꺼내나\n",
      "https://v.daum.net/v/20250409182340171\n",
      "아워홈 용인공장 근로자 사망…M&A 갈등 사이 안전책임자는 '공석' [한양경제]\n",
      "https://v.daum.net/v/20250409182115106\n",
      "트럼프 보란듯 뭉친 한중일… 경제블록화로 위기 넘을까 [통상 컨트롤타워가 없다 (3)]\n"
     ]
    }
   ],
   "source": [
    "\n",
    "# req_param = {\n",
    "#     'sid': 'economy'\n",
    "# }\n",
    "\n",
    "# url = 'https://news.daum.net/{sid}'.format(**req_param) # dict 자료구조를 포맷함수에 넣게 된다면 앞에 아스타 두개 붙여야한다. (약속속)\n",
    "url = 'https://news.daum.net/economy'\n",
    "\n",
    "req_header = {\n",
    "    'user-agent' : 'Mozilla/5.0 (Windows NT 10.0; Win64; x64) AppleWebKit/537.36 (KHTML, like Gecko) Chrome/134.0.0.0 Safari/537.36'\n",
    "}\n",
    "\n",
    "res = requests.get(url, headers=req_header)\n",
    "# print(res)\n",
    "# print(type(res))\n",
    "# print(res.status_code)\n",
    "\n",
    "if res.ok:\n",
    "    res.encoding = 'utf-8'\n",
    "    html = res.text\n",
    "    soup = BeautifulSoup(html, 'html.parser')\n",
    "    li_tag_list = soup.select('ul.list_newsheadline2 li')\n",
    "    for li_tag in soup.select('ul.list_newsheadline2 li'):\n",
    "        a_tag = li_tag.find('a')\n",
    "        print(a_tag['href'])\n",
    "\n",
    "        strong_tag = li_tag.select_one('div.cont_thumb strong.tit_txt')\n",
    "        title = strong_tag.text\n",
    "        print(title)\n",
    "\n",
    "else:\n",
    "    print(f'Error code = {res.status_code}')"
   ]
  },
  {
   "cell_type": "code",
   "execution_count": null,
   "id": "171cdb29",
   "metadata": {},
   "outputs": [],
   "source": [
    "section_dict = {'기후/환경':'climate', '사회':'society','경제':'economy','정치':'politics',\\\n",
    "                '국제':'world','문화':'culture','생활':'life','IT/과학':'tech','인물':'people'} "
   ]
  },
  {
   "cell_type": "code",
   "execution_count": 44,
   "id": "69397231",
   "metadata": {},
   "outputs": [],
   "source": [
    "import requests\n",
    "from bs4 import BeautifulSoup\n",
    "\n",
    "def print_news(section_name):\n",
    "    section = section_dict.get(section_name)\n",
    "    \n",
    "    req_param = {\n",
    "        'section' : section\n",
    "    }\n",
    "\n",
    "    url = 'https://news.daum.net/{section}'.format(**req_param)\n",
    "    \n",
    "    print(f'===========> {url} {section_name} 뉴스 <=========')\n",
    "\n",
    "    req_header = {\n",
    "        'user-agent' : 'Mozilla/5.0 (Windows NT 10.0; Win64; x64) AppleWebKit/537.36 (KHTML, like Gecko) Chrome/134.0.0.0 Safari/537.36'\n",
    "    }\n",
    "\n",
    "    res = requests.get(url, headers= req_header)\n",
    "\n",
    "    if res.ok:\n",
    "        res.encoding = 'utf-8'\n",
    "        html = res.text\n",
    "        soup = BeautifulSoup(html, 'html.parser')\n",
    "\n",
    "        li_tag_list = soup.select('ul.list_newsheadline2 li')\n",
    "        for li_tag in li_tag_list:\n",
    "            a_tag = li_tag.find('a')\n",
    "            print(a_tag['href'])\n",
    "\n",
    "            strong_tag = li_tag.select_one('div.cont_thumb strong.tit_txt')\n",
    "            title = strong_tag.text.strip()\n",
    "            print(title)\n",
    "    else:\n",
    "        print(f'Error code = {res.status_code}')\n"
   ]
  },
  {
   "cell_type": "code",
   "execution_count": 45,
   "id": "3374bd11",
   "metadata": {},
   "outputs": [
    {
     "name": "stdout",
     "output_type": "stream",
     "text": [
      "===========> https://news.daum.net/world 국제 뉴스 <=========\n",
      "https://v.daum.net/v/20250409233300334\n",
      "美 104% vs 中 84%…극단으로 치닫는 무역전쟁(종합)\n",
      "https://v.daum.net/v/20250409232400265\n",
      "“옛날 생각하면 오산” 반격 시동건 중국...관세 이어 환율전쟁까지 터질라\n",
      "https://v.daum.net/v/20250409225403967\n",
      "중, 미 관세에 3대 전략으로 맞선다…맞불·경기부양·주변국 공조\n",
      "https://v.daum.net/v/20250409224003853\n",
      "메타 팩트체크 중단에 \"문 닫아야 할지 몰라\" 불안한 기자들\n",
      "https://v.daum.net/v/20250409223817833\n",
      "네이비실·의사·우주비행사···\"엄마 친구 아들이면 끔찍한 악몽\"이라는 그 남자의 정체\n",
      "https://v.daum.net/v/20250409211023683\n",
      "\"북한군, 번개 같은 속도로 적응…러軍 보다 생명 철저히 무시\"\n",
      "https://v.daum.net/v/20250409193834882\n",
      "中, 10일부터 대미관세 84% ‘맞불’…시진핑 자신만만한 이유\n",
      "https://v.daum.net/v/20250409192509550\n",
      "“북-러 관계는 배신과 이용으로 점철된 거래적 관계”\n",
      "https://v.daum.net/v/20250409191509309\n",
      "중, ‘관세폭탄’에도 자신감 보이지만…경제성장 전망은 ‘먹구름’\n"
     ]
    }
   ],
   "source": [
    "print_news('국제')"
   ]
  }
 ],
 "metadata": {
  "kernelspec": {
   "display_name": "base",
   "language": "python",
   "name": "python3"
  },
  "language_info": {
   "codemirror_mode": {
    "name": "ipython",
    "version": 3
   },
   "file_extension": ".py",
   "mimetype": "text/x-python",
   "name": "python",
   "nbconvert_exporter": "python",
   "pygments_lexer": "ipython3",
   "version": "3.12.7"
  }
 },
 "nbformat": 4,
 "nbformat_minor": 5
}
