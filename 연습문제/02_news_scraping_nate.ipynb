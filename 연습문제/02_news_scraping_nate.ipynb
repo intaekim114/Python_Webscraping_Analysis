{
 "cells": [
  {
   "cell_type": "code",
   "execution_count": 28,
   "id": "d75a9009",
   "metadata": {},
   "outputs": [],
   "source": [
    "section_dict = {\n",
    "    '최신뉴스':100,\n",
    "    '정치':200,\n",
    "    '경제':300,\n",
    "    '사회':400,\n",
    "    '세계':500,\n",
    "    'IT/과학':600\n",
    "}"
   ]
  },
  {
   "cell_type": "code",
   "execution_count": 29,
   "id": "abdf3dcf",
   "metadata": {},
   "outputs": [],
   "source": [
    "import requests\n",
    "from bs4 import BeautifulSoup\n",
    "\n",
    "from urllib.parse import urljoin\n",
    "from IPython.display import Image, display\n",
    "\n",
    "def print_news_nate(section_name):\n",
    "    section = section_dict.get(section_name)\n",
    "\n",
    "    req_param = {\n",
    "        'section' : section\n",
    "    }\n",
    "\n",
    "    url =' https://news.nate.com/section?mid=n0{section}'.format(**req_param)\n",
    "\n",
    "    req_header = {\n",
    "        'user-agent' : 'Mozilla/5.0 (Windows NT 10.0; Win64; x64) AppleWebKit/537.36 (KHTML, like Gecko) Chrome/134.0.0.0 Safari/537.36'\n",
    "    }\n",
    "\n",
    "    res = requests.get(url, headers= req_header)\n",
    "\n",
    "    if res.ok:\n",
    "        res.encoding = 'utf-8'\n",
    "        html = res.text\n",
    "        soup = BeautifulSoup(html, 'html.parser')\n",
    "\n",
    "        li_tag_list = soup.select('div.mlt01')\n",
    "        for li_tag in li_tag_list:\n",
    "            a_tag = li_tag.find('a')\n",
    "            print(a_tag['href'])\n",
    "\n",
    "            h2_tag = soup.select_one('h2')\n",
    "            title = h2_tag.text.strip()\n",
    "            print(title)\n",
    "    else:\n",
    "        print(f'Error code = {res.status_code}')\n"
   ]
  },
  {
   "cell_type": "code",
   "execution_count": 31,
   "id": "81db4231",
   "metadata": {},
   "outputs": [
    {
     "name": "stdout",
     "output_type": "stream",
     "text": [
      "//news.nate.com/view/20250410n01062?mid=n0300\n",
      "����� 19���� �þ�����, 60�� �̻� ���� '���̳ʽ�'\n",
      "//news.nate.com/view/20250410n01532?mid=n0300\n",
      "����� 19���� �þ�����, 60�� �̻� ���� '���̳ʽ�'\n",
      "//news.nate.com/view/20250410n02220?mid=n0300\n",
      "����� 19���� �þ�����, 60�� �̻� ���� '���̳ʽ�'\n",
      "//news.nate.com/view/20250410n02660?mid=n0300\n",
      "����� 19���� �þ�����, 60�� �̻� ���� '���̳ʽ�'\n",
      "//news.nate.com/view/20250410n02674?mid=n0300\n",
      "����� 19���� �þ�����, 60�� �̻� ���� '���̳ʽ�'\n",
      "//news.nate.com/view/20250409n34756?mid=n0300\n",
      "����� 19���� �þ�����, 60�� �̻� ���� '���̳ʽ�'\n",
      "//news.nate.com/view/20250409n28495?mid=n0300\n",
      "����� 19���� �þ�����, 60�� �̻� ���� '���̳ʽ�'\n",
      "//news.nate.com/view/20250409n28823?mid=n0300\n",
      "����� 19���� �þ�����, 60�� �̻� ���� '���̳ʽ�'\n",
      "//news.nate.com/view/20250409n28527?mid=n0300\n",
      "����� 19���� �þ�����, 60�� �̻� ���� '���̳ʽ�'\n",
      "//news.nate.com/view/20250409n27696?mid=n0300\n",
      "����� 19���� �þ�����, 60�� �̻� ���� '���̳ʽ�'\n",
      "//news.nate.com/view/20250409n22190?mid=n0300\n",
      "����� 19���� �þ�����, 60�� �̻� ���� '���̳ʽ�'\n",
      "//news.nate.com/view/20250409n22258?mid=n0300\n",
      "����� 19���� �þ�����, 60�� �̻� ���� '���̳ʽ�'\n",
      "//news.nate.com/view/20250409n18135?mid=n0300\n",
      "����� 19���� �þ�����, 60�� �̻� ���� '���̳ʽ�'\n",
      "//news.nate.com/view/20250409n01699?mid=n0300\n",
      "����� 19���� �þ�����, 60�� �̻� ���� '���̳ʽ�'\n",
      "//news.nate.com/view/20250409n02718?mid=n0300\n",
      "����� 19���� �þ�����, 60�� �̻� ���� '���̳ʽ�'\n"
     ]
    }
   ],
   "source": [
    "print_news_nate('경제')"
   ]
  }
 ],
 "metadata": {
  "kernelspec": {
   "display_name": "base",
   "language": "python",
   "name": "python3"
  },
  "language_info": {
   "codemirror_mode": {
    "name": "ipython",
    "version": 3
   },
   "file_extension": ".py",
   "mimetype": "text/x-python",
   "name": "python",
   "nbconvert_exporter": "python",
   "pygments_lexer": "ipython3",
   "version": "3.12.7"
  }
 },
 "nbformat": 4,
 "nbformat_minor": 5
}
