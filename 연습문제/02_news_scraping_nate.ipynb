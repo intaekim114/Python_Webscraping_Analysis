{
 "cells": [
  {
   "cell_type": "markdown",
   "id": "3c6b2ec5",
   "metadata": {},
   "source": [
    "## 2-1. Nate 뉴스기사 제목 스크래핑하기"
   ]
  },
  {
   "cell_type": "code",
   "execution_count": 4,
   "id": "d75a9009",
   "metadata": {},
   "outputs": [],
   "source": [
    "section_dict = {\n",
    "    '최신뉴스':100,\n",
    "    '정치':200,\n",
    "    '경제':300,\n",
    "    '사회':400,\n",
    "    '세계':500,\n",
    "    'IT/과학':600\n",
    "}"
   ]
  },
  {
   "cell_type": "code",
   "execution_count": 34,
   "id": "abdf3dcf",
   "metadata": {},
   "outputs": [],
   "source": [
    "import requests\n",
    "from bs4 import BeautifulSoup\n",
    "\n",
    "from urllib.parse import urljoin\n",
    "from IPython.display import Image, display\n",
    "\n",
    "def print_news_nate(section_name):\n",
    "    section = section_dict.get(section_name)\n",
    "\n",
    "    req_param = {\n",
    "        'section' : section\n",
    "    }\n",
    "\n",
    "    url ='https://news.nate.com/section?mid=n0{section}'.format(**req_param)\n",
    "\n",
    "    req_header = {\n",
    "        'user-agent' : 'Mozilla/5.0 (Windows NT 10.0; Win64; x64) AppleWebKit/537.36 (KHTML, like Gecko) Chrome/134.0.0.0 Safari/537.36'\n",
    "    }\n",
    "\n",
    "    res = requests.get(url, headers= req_header)\n",
    "\n",
    "    if res.ok:\n",
    "        res.encoding = 'euc-kr'\n",
    "        html = res.text\n",
    "        soup = BeautifulSoup(html, 'html.parser')\n",
    "\n",
    "        li_tag_list = soup.select('div.mlt01')\n",
    "        \n",
    "        for idx,li_tag in enumerate(li_tag_list,1):\n",
    "            a_tag = li_tag.find('a')\n",
    "            a_join_url = urljoin(url, a_tag['href'])\n",
    "            print(f'{idx}번 기사')\n",
    "            print(a_join_url)\n",
    "\n",
    "            img_tag = li_tag.select_one('span.ib img')\n",
    "            if img_tag:\n",
    "                photo_url = urljoin(url, img_tag['src'])\n",
    "                print(photo_url)\n",
    "                display(Image(url=photo_url))\n",
    "\n",
    "\n",
    "\n",
    "\n",
    "            h2_tag = li_tag.select_one('span.tb h2.tit')\n",
    "            title = h2_tag.text.strip()\n",
    "            print(title)\n",
    "\n",
    "            print('=======================================================================')\n",
    "    else:\n",
    "        print(f'Error code = {res.status_code}')\n"
   ]
  },
  {
   "cell_type": "code",
   "execution_count": 35,
   "id": "81db4231",
   "metadata": {},
   "outputs": [
    {
     "name": "stdout",
     "output_type": "stream",
     "text": [
      "1번 기사\n",
      "https://news.nate.com/view/20250411n14919?mid=n0300\n",
      "https://thumbnews.nateimg.co.kr/news90///news.nateimg.co.kr/orgImg/na/2025/04/11/7185604_high.jpg\n"
     ]
    },
    {
     "data": {
      "text/html": [
       "<img src=\"https://thumbnews.nateimg.co.kr/news90///news.nateimg.co.kr/orgImg/na/2025/04/11/7185604_high.jpg\"/>"
      ],
      "text/plain": [
       "<IPython.core.display.Image object>"
      ]
     },
     "metadata": {},
     "output_type": "display_data"
    },
    {
     "name": "stdout",
     "output_type": "stream",
     "text": [
      "'법정관리' 홈플러스 빚만 2조6960억원…법원에 채권자 목록 제출\n",
      "=======================================================================\n",
      "2번 기사\n",
      "https://news.nate.com/view/20250411n14443?mid=n0300\n",
      "https://thumbnews.nateimg.co.kr/news90///news.nateimg.co.kr/orgImg/ns/2025/04/11/NISI20240603_0020363222_web.jpg\n"
     ]
    },
    {
     "data": {
      "text/html": [
       "<img src=\"https://thumbnews.nateimg.co.kr/news90///news.nateimg.co.kr/orgImg/ns/2025/04/11/NISI20240603_0020363222_web.jpg\"/>"
      ],
      "text/plain": [
       "<IPython.core.display.Image object>"
      ]
     },
     "metadata": {},
     "output_type": "display_data"
    },
    {
     "name": "stdout",
     "output_type": "stream",
     "text": [
      "尹 파면·대선에 '대왕고래' 향방은…사업 동력 상실에 투자유치 비상등\n",
      "=======================================================================\n",
      "3번 기사\n",
      "https://news.nate.com/view/20250411n14046?mid=n0300\n",
      "https://thumbnews.nateimg.co.kr/news90///news.nateimg.co.kr/orgImg/no/2025/04/11/SSC_20250315134232_V.jpg\n"
     ]
    },
    {
     "data": {
      "text/html": [
       "<img src=\"https://thumbnews.nateimg.co.kr/news90///news.nateimg.co.kr/orgImg/no/2025/04/11/SSC_20250315134232_V.jpg\"/>"
      ],
      "text/plain": [
       "<IPython.core.display.Image object>"
      ]
     },
     "metadata": {},
     "output_type": "display_data"
    },
    {
     "name": "stdout",
     "output_type": "stream",
     "text": [
      "'감성' 사라지나…스타벅스, 상반기 중 키오스크 도입 \"한국이 최초\"\n",
      "=======================================================================\n",
      "4번 기사\n",
      "https://news.nate.com/view/20250411n13760?mid=n0300\n",
      "https://thumbnews.nateimg.co.kr/news90///news.nateimg.co.kr/orgImg/yt/2025/04/11/AKR20250411067200704_02_i.jpg\n"
     ]
    },
    {
     "data": {
      "text/html": [
       "<img src=\"https://thumbnews.nateimg.co.kr/news90///news.nateimg.co.kr/orgImg/yt/2025/04/11/AKR20250411067200704_02_i.jpg\"/>"
      ],
      "text/plain": [
       "<IPython.core.display.Image object>"
      ]
     },
     "metadata": {},
     "output_type": "display_data"
    },
    {
     "name": "stdout",
     "output_type": "stream",
     "text": [
      "[영상] 알리에서 고압세척기 샀는데…택배 뜯어보고 '멘붕'\n",
      "=======================================================================\n",
      "5번 기사\n",
      "https://news.nate.com/view/20250411n10020?mid=n0300\n",
      "https://thumbnews.nateimg.co.kr/news90///news.nateimg.co.kr/orgImg/sg/2025/04/11/20250411505509.jpg\n"
     ]
    },
    {
     "data": {
      "text/html": [
       "<img src=\"https://thumbnews.nateimg.co.kr/news90///news.nateimg.co.kr/orgImg/sg/2025/04/11/20250411505509.jpg\"/>"
      ],
      "text/plain": [
       "<IPython.core.display.Image object>"
      ]
     },
     "metadata": {},
     "output_type": "display_data"
    },
    {
     "name": "stdout",
     "output_type": "stream",
     "text": [
      "나라 빚 1180조…국민 1인당 2000만원씩 갚아야 할 판\n",
      "=======================================================================\n",
      "6번 기사\n",
      "https://news.nate.com/view/20250411n08254?mid=n0300\n",
      "https://thumbnews.nateimg.co.kr/news90///news.nateimg.co.kr/orgImg/hk/2025/04/11/01.40101097.1.jpg\n"
     ]
    },
    {
     "data": {
      "text/html": [
       "<img src=\"https://thumbnews.nateimg.co.kr/news90///news.nateimg.co.kr/orgImg/hk/2025/04/11/01.40101097.1.jpg\"/>"
      ],
      "text/plain": [
       "<IPython.core.display.Image object>"
      ]
     },
     "metadata": {},
     "output_type": "display_data"
    },
    {
     "name": "stdout",
     "output_type": "stream",
     "text": [
      "\"대통령실 옮긴대\" 파다한 소문…세종 집값 순식간에 1억 뛰었다\n",
      "=======================================================================\n",
      "7번 기사\n",
      "https://news.nate.com/view/20250411n07773?mid=n0300\n",
      "https://thumbnews.nateimg.co.kr/news90///news.nateimg.co.kr/orgImg/ns/2025/04/11/NISI20250401_0020755116_web.jpg\n"
     ]
    },
    {
     "data": {
      "text/html": [
       "<img src=\"https://thumbnews.nateimg.co.kr/news90///news.nateimg.co.kr/orgImg/ns/2025/04/11/NISI20250401_0020755116_web.jpg\"/>"
      ],
      "text/plain": [
       "<IPython.core.display.Image object>"
      ]
     },
     "metadata": {},
     "output_type": "display_data"
    },
    {
     "name": "stdout",
     "output_type": "stream",
     "text": [
      "금값, 사상 최고치 찍었다…\"불확실성 헤지 수단\"\n",
      "=======================================================================\n",
      "8번 기사\n",
      "https://news.nate.com/view/20250411n01612?mid=n0300\n",
      "https://thumbnews.nateimg.co.kr/news90///news.nateimg.co.kr/orgImg/no/2025/04/11/SSC_20250410184121_V.jpg\n"
     ]
    },
    {
     "data": {
      "text/html": [
       "<img src=\"https://thumbnews.nateimg.co.kr/news90///news.nateimg.co.kr/orgImg/no/2025/04/11/SSC_20250410184121_V.jpg\"/>"
      ],
      "text/plain": [
       "<IPython.core.display.Image object>"
      ]
     },
     "metadata": {},
     "output_type": "display_data"
    },
    {
     "name": "stdout",
     "output_type": "stream",
     "text": [
      "[단독] 면접관에 대놓고 \"잘 봐달라\"…작년 채용법 위반 826건\n",
      "=======================================================================\n",
      "9번 기사\n",
      "https://news.nate.com/view/20250410n39224?mid=n0300\n",
      "https://thumbnews.nateimg.co.kr/news90///news.nateimg.co.kr/orgImg/yt/2025/04/10/PYH2025041007050001301_P2.jpg\n"
     ]
    },
    {
     "data": {
      "text/html": [
       "<img src=\"https://thumbnews.nateimg.co.kr/news90///news.nateimg.co.kr/orgImg/yt/2025/04/10/PYH2025041007050001301_P2.jpg\"/>"
      ],
      "text/plain": [
       "<IPython.core.display.Image object>"
      ]
     },
     "metadata": {},
     "output_type": "display_data"
    },
    {
     "name": "stdout",
     "output_type": "stream",
     "text": [
      "이복현 \"국회 상법 재의요구안 미표결은 위헌…내로남불\"(종합2보)\n",
      "=======================================================================\n",
      "10번 기사\n",
      "https://news.nate.com/view/20250410n33766?mid=n0300\n",
      "https://thumbnews.nateimg.co.kr/news90///news.nateimg.co.kr/orgImg/yt/2025/04/10/PYH2025041016240001300_P2.jpg\n"
     ]
    },
    {
     "data": {
      "text/html": [
       "<img src=\"https://thumbnews.nateimg.co.kr/news90///news.nateimg.co.kr/orgImg/yt/2025/04/10/PYH2025041016240001300_P2.jpg\"/>"
      ],
      "text/plain": [
       "<IPython.core.display.Image object>"
      ]
     },
     "metadata": {},
     "output_type": "display_data"
    },
    {
     "name": "stdout",
     "output_type": "stream",
     "text": [
      "美관세 유예에 외국인 컴백…코스피 6% 급반등 2,440대 복귀(종합2보)\n",
      "=======================================================================\n",
      "11번 기사\n",
      "https://news.nate.com/view/20250410n21436?mid=n0300\n",
      "https://thumbnews.nateimg.co.kr/news90///news.nateimg.co.kr/orgImg/hk/2025/04/10/01.39859606.1.jpg\n"
     ]
    },
    {
     "data": {
      "text/html": [
       "<img src=\"https://thumbnews.nateimg.co.kr/news90///news.nateimg.co.kr/orgImg/hk/2025/04/10/01.39859606.1.jpg\"/>"
      ],
      "text/plain": [
       "<IPython.core.display.Image object>"
      ]
     },
     "metadata": {},
     "output_type": "display_data"
    },
    {
     "name": "stdout",
     "output_type": "stream",
     "text": [
      "500만원짜리 '구찌'가 90만원…명품 '파격 떨이' 나선 이유 [안혜원의 명품의세계]\n",
      "=======================================================================\n",
      "12번 기사\n",
      "https://news.nate.com/view/20250410n22257?mid=n0300\n",
      "https://thumbnews.nateimg.co.kr/news90///news.nateimg.co.kr/orgImg/mk/2025/04/10/news-p.v1.20250410.1bedd212c94c4c9abcf767fcc2e3907e_P1.jpg\n"
     ]
    },
    {
     "data": {
      "text/html": [
       "<img src=\"https://thumbnews.nateimg.co.kr/news90///news.nateimg.co.kr/orgImg/mk/2025/04/10/news-p.v1.20250410.1bedd212c94c4c9abcf767fcc2e3907e_P1.jpg\"/>"
      ],
      "text/plain": [
       "<IPython.core.display.Image object>"
      ]
     },
     "metadata": {},
     "output_type": "display_data"
    },
    {
     "name": "stdout",
     "output_type": "stream",
     "text": [
      "\"퇴직후 식당하려 했는데\"…불황의 그늘, 1분기 문 닫은 음식점이 무려 1만3500 곳\n",
      "=======================================================================\n",
      "13번 기사\n",
      "https://news.nate.com/view/20250410n21421?mid=n0300\n",
      "https://thumbnews.nateimg.co.kr/news90///news.nateimg.co.kr/orgImg/mt/2025/04/10/mt_1744261747063_680875_0.jpg\n"
     ]
    },
    {
     "data": {
      "text/html": [
       "<img src=\"https://thumbnews.nateimg.co.kr/news90///news.nateimg.co.kr/orgImg/mt/2025/04/10/mt_1744261747063_680875_0.jpg\"/>"
      ],
      "text/plain": [
       "<IPython.core.display.Image object>"
      ]
     },
     "metadata": {},
     "output_type": "display_data"
    },
    {
     "name": "stdout",
     "output_type": "stream",
     "text": [
      "마포·과천 집값 오른다?…토허제 재지정 '풍선 효과' 없었다\n",
      "=======================================================================\n",
      "14번 기사\n",
      "https://news.nate.com/view/20250410n14132?mid=n0300\n",
      "https://thumbnews.nateimg.co.kr/news90///news.nateimg.co.kr/orgImg/hk/2025/04/10/01.40111368.1.jpg\n"
     ]
    },
    {
     "data": {
      "text/html": [
       "<img src=\"https://thumbnews.nateimg.co.kr/news90///news.nateimg.co.kr/orgImg/hk/2025/04/10/01.40111368.1.jpg\"/>"
      ],
      "text/plain": [
       "<IPython.core.display.Image object>"
      ]
     },
     "metadata": {},
     "output_type": "display_data"
    },
    {
     "name": "stdout",
     "output_type": "stream",
     "text": [
      "백종원 또 구설…홍성 축제, 농약통 이어 고기 운반 논란\n",
      "=======================================================================\n",
      "15번 기사\n",
      "https://news.nate.com/view/20250410n02356?mid=n0300\n",
      "https://thumbnews.nateimg.co.kr/news90///news.nateimg.co.kr/orgImg/mk/2025/04/10/news-p.v1.20250409.12d1d689e76b4dac94493b669addc79c_P1.jpg\n"
     ]
    },
    {
     "data": {
      "text/html": [
       "<img src=\"https://thumbnews.nateimg.co.kr/news90///news.nateimg.co.kr/orgImg/mk/2025/04/10/news-p.v1.20250409.12d1d689e76b4dac94493b669addc79c_P1.jpg\"/>"
      ],
      "text/plain": [
       "<IPython.core.display.Image object>"
      ]
     },
     "metadata": {},
     "output_type": "display_data"
    },
    {
     "name": "stdout",
     "output_type": "stream",
     "text": [
      "\"몰랐으면 100만원 낼 뻔했네\"…6월부터 정식시행 된다는 이것은\n",
      "=======================================================================\n"
     ]
    }
   ],
   "source": [
    "print_news_nate('경제')"
   ]
  },
  {
   "cell_type": "markdown",
   "id": "d7eb2b47",
   "metadata": {},
   "source": []
  }
 ],
 "metadata": {
  "kernelspec": {
   "display_name": "base",
   "language": "python",
   "name": "python3"
  },
  "language_info": {
   "codemirror_mode": {
    "name": "ipython",
    "version": 3
   },
   "file_extension": ".py",
   "mimetype": "text/x-python",
   "name": "python",
   "nbconvert_exporter": "python",
   "pygments_lexer": "ipython3",
   "version": "3.12.7"
  }
 },
 "nbformat": 4,
 "nbformat_minor": 5
}
